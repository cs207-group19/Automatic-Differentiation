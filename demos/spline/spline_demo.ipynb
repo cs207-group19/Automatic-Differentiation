{
 "cells": [
  {
   "cell_type": "markdown",
   "metadata": {},
   "source": [
    "## Quadratic Splines in DeriveAlive\n",
    "\n",
    "#### This notebook will demonstrate one possible application of the DeriveAlive package in plotting quadratic splines, which utilizes the derivatives carried within this program."
   ]
  },
  {
   "cell_type": "markdown",
   "metadata": {},
   "source": [
    "* Background\n",
    "\n",
    "    * What is a quadratic spline?\n",
    "    \n",
    "    We aim to construct a piecewise quadratic spline $s(x)$ using $N$ equally-sized intervals over an interval for $f(x)$. Define $h=1/N$, and let $s_{k}(x)$ be the spline over the range $[kh,(k+1)h]$ for $k=0,1,\\ldots,N-1$. Each $s_k(x)=a_kx^2+b_kx+c_k$ is a quadratic, and hence the spline has $3N$ degrees of freedom in total.\n",
    "    \n",
    "    * How to set up the math?\n",
    "    \n",
    "    The spline coefficients satisfy the following constraints:\n",
    "    \n",
    "        * Each $s_k(x)$ should match the function values at both of its endpoints, so that $s_k(kh)=f(kh)$ and $s_k( (k+1)h) =f( (k+1)h)$. (Provides $2N$ constraints.)\n",
    "        \n",
    "        * At each interior boundary, the spline should be differentiable, so that $s_{k-1}(kh)= s_k(kh)$ for $k=1,\\ldots,N-1$. (Provides $N-1$ constraints.)\n",
    "        \n",
    "        * Since $f'(x+1)=10f'(x)$, let $s'_{N-1}(1) = 10s'_0(0)$. (Provides $1$ constraint.)\n",
    "    \n",
    "    Since there are $3N$ constraints for $3N$ degrees of freedom, there is a unique solution."
   ]
  },
  {
   "cell_type": "markdown",
   "metadata": {},
   "source": [
    "* Suite walkthrough\n",
    "\n",
    "    * methods:\n",
    "    \n",
    "        * quad_spline_coeff: calculate the coefficients of quadratic splines\n",
    "        \n",
    "            * input: \n",
    "            \n",
    "                - f: function of interest            \n",
    "                - xMin: left endpoint of the $x$ interval\n",
    "                - xMax: right endpoint of the $x$ interval\n",
    "                - nIntervals: number of intervals that you want to slice the original function\n",
    "            \n",
    "            * output:\n",
    "            \n",
    "                - y: the right hand side of $Ax=y$\n",
    "                - A: the sqaure matrix in the left hand side of $Ax=y$\n",
    "                - coeffs: coefficients of $a_i, b_i, c_i$\n",
    "                - ks: points of interest in the $x$ interval as DeriveAlive objects\n",
    "        \n",
    "        * quad_spline_plot: plot the original function and the corresponding splines\n",
    "        \n",
    "            * input: f, coeffs, ks, nSplineIntervals\n",
    "            \n",
    "                - f: function of interest            \n",
    "                - coeffs: coefficients of $a_i, b_i, c_i$\n",
    "                - ks: points of interest in the $x$ interval as DeriveAlive objects\n",
    "                - nSplinePoints: number of points to draw each spline\n",
    "            \n",
    "            * output: fig, spline_points \n",
    "            \n",
    "                - fig: the plot of $f(x)$ and splines\n",
    "                - spline_points: a list of spline points $(x,y)$ on each $s_i$\n",
    "        \n",
    "        * quad_squared_error: calculate the squared error of the spline and the original function at one point\n",
    "        \n",
    "            * input:\n",
    "            \n",
    "                - f: function of interest            \n",
    "                - spline_points: a list of spline points $(x,y)$ on each $s_i$\n",
    "            \n",
    "            * output:\n",
    "            \n",
    "                - squared_error: sum of sqaured error of the spline and the original function on one given interval\n",
    "        \n",
    "    * external dependencies:\n",
    "    \n",
    "        * DeriveAive\n",
    "        \n",
    "        * numpy\n",
    "        \n",
    "        * matplotlib.pyplot"
   ]
  },
  {
   "cell_type": "markdown",
   "metadata": {},
   "source": [
    "* Demo"
   ]
  },
  {
   "cell_type": "code",
   "execution_count": null,
   "metadata": {
    "collapsed": true
   },
   "outputs": [],
   "source": [
    "import spline as sp"
   ]
  },
  {
   "cell_type": "markdown",
   "metadata": {},
   "source": [
    "Plot the quadratic spline of $f_1(x) = 10^x, x \\in [-1, 1]$ with 10 intervals."
   ]
  },
  {
   "cell_type": "code",
   "execution_count": null,
   "metadata": {},
   "outputs": [],
   "source": [
    "def f1(var):\n",
    "    return 10 ** var\n",
    "\n",
    "xMin1 = -1\n",
    "xMax1 = 1\n",
    "nIntervals1 = 10\n",
    "nSplinePoints1 = 5\n",
    "\n",
    "y1, A1, coeffs1, ks1 = sp.quad_spline_coeff(f1, xMin1, xMax1, nIntervals1)\n",
    "fig1, spline_points1 = sp.quad_spline_plot(f1, coeffs1, ks1, nSplinePoints1)\n",
    "sp.spline_squared_error(f1, spline_points1)"
   ]
  },
  {
   "cell_type": "code",
   "execution_count": null,
   "metadata": {},
   "outputs": [],
   "source": [
    "fig1"
   ]
  },
  {
   "cell_type": "markdown",
   "metadata": {},
   "source": [
    "Plot the quadratic spline of $f_2(x) = x^3, x \\in [-1, 1]$ with 10 intervals."
   ]
  },
  {
   "cell_type": "code",
   "execution_count": null,
   "metadata": {},
   "outputs": [],
   "source": [
    "def f2(var):\n",
    "    return var**3\n",
    "\n",
    "xMin2 = -1\n",
    "xMax2 = 1\n",
    "nIntervals2 = 10\n",
    "nSplinePoints2 = 5\n",
    "\n",
    "y2, A2, coeffs2, ks2 = sp.quad_spline_coeff(f2, xMin2, xMax2, nIntervals2)\n",
    "fig2, spline_points2 = sp.quad_spline_plot(f2, coeffs2, ks2, nSplinePoints2)\n",
    "sp.spline_squared_error(f2, spline_points2)"
   ]
  },
  {
   "cell_type": "code",
   "execution_count": null,
   "metadata": {},
   "outputs": [],
   "source": [
    "fig2"
   ]
  },
  {
   "cell_type": "markdown",
   "metadata": {},
   "source": [
    "Plot the quadratic spline of $f_3(x) = \\sin(x), x \\in [-1,1]$ and $x \\in [-\\pi, \\pi]$ with 5 intervals and 10 intervals."
   ]
  },
  {
   "cell_type": "code",
   "execution_count": null,
   "metadata": {},
   "outputs": [],
   "source": [
    "def f3(var):\n",
    "    return var.sin()\n",
    "\n",
    "xMin3 = -1\n",
    "xMax3 = 1\n",
    "nIntervals3 = 5\n",
    "nSplinePoints3 = 5\n",
    "\n",
    "y3, A3, coeffs3, ks3 = sp.quad_spline_coeff(f3, xMin3, xMax3, nIntervals3)\n",
    "fig3, spline_points3 = sp.quad_spline_plot(f3, coeffs3, ks3, nSplinePoints3)\n",
    "sp.spline_squared_error(f3, spline_points3)"
   ]
  },
  {
   "cell_type": "code",
   "execution_count": null,
   "metadata": {},
   "outputs": [],
   "source": [
    "fig3"
   ]
  },
  {
   "cell_type": "markdown",
   "metadata": {},
   "source": [
    "We can see that the quadratic splines do not work that well with linear-ish functions."
   ]
  },
  {
   "cell_type": "code",
   "execution_count": null,
   "metadata": {},
   "outputs": [],
   "source": [
    "xMin4 = -1\n",
    "xMax4 = 1\n",
    "nIntervals4 = 10\n",
    "nSplinePoints4 = 5\n",
    "\n",
    "y4, A4, coeffs4, ks4 = sp.quad_spline_coeff(f3, xMin4, xMax4, nIntervals4)\n",
    "fig4, spline_points4 = sp.quad_spline_plot(f3, coeffs4, ks4, nSplinePoints4)\n",
    "sp.spline_squared_error(f3, spline_points4)"
   ]
  },
  {
   "cell_type": "code",
   "execution_count": null,
   "metadata": {},
   "outputs": [],
   "source": [
    "fig4"
   ]
  },
  {
   "cell_type": "markdown",
   "metadata": {},
   "source": [
    "While adding more intervals may help to make the approximated splines better."
   ]
  },
  {
   "cell_type": "code",
   "execution_count": null,
   "metadata": {},
   "outputs": [],
   "source": [
    "xMin5 = -sp.np.pi\n",
    "xMax5 = sp.np.pi\n",
    "nIntervals5 = 5\n",
    "nSplinePoints5 = 5\n",
    "\n",
    "y5, A5, coeffs5, ks5 = sp.quad_spline_coeff(f3, xMin5, xMax5, nIntervals5)\n",
    "fig5, spline_points5 = sp.quad_spline_plot(f3, coeffs5, ks5, nSplinePoints5)\n",
    "sp.spline_squared_error(f3, spline_points5)"
   ]
  },
  {
   "cell_type": "code",
   "execution_count": null,
   "metadata": {},
   "outputs": [],
   "source": [
    "fig5"
   ]
  },
  {
   "cell_type": "markdown",
   "metadata": {},
   "source": [
    "However, too less intervals may not be a good fit for quadratic spline either."
   ]
  },
  {
   "cell_type": "code",
   "execution_count": null,
   "metadata": {},
   "outputs": [],
   "source": [
    "xMin6 = -sp.np.pi\n",
    "xMax6 = sp.np.pi\n",
    "nIntervals6 = 10\n",
    "nSplinePoints6 = 5\n",
    "\n",
    "y6, A6, coeffs6, ks6 = sp.quad_spline_coeff(f3, xMin6, xMax6, nIntervals6)\n",
    "fig6, spline_points6 = sp.quad_spline_plot(f3, coeffs6, ks6, nSplinePoints6)\n",
    "sp.spline_squared_error(f3, spline_points6)"
   ]
  },
  {
   "cell_type": "code",
   "execution_count": null,
   "metadata": {},
   "outputs": [],
   "source": [
    "fig6"
   ]
  },
  {
   "cell_type": "markdown",
   "metadata": {},
   "source": [
    "And adding more intervals does make the quadratic splines fit better.\n",
    "\n",
    "We will demonstrate this statement with $f(x) = \\sin(x), x \\in [-\\pi, \\pi]$ at intervals from 5 to 100."
   ]
  },
  {
   "cell_type": "code",
   "execution_count": null,
   "metadata": {},
   "outputs": [],
   "source": [
    "import matplotlib.pyplot as plt\n",
    "\n",
    "def f(var):\n",
    "    return var.sin()\n",
    "\n",
    "xMin = -sp.np.pi\n",
    "xMax = sp.np.pi\n",
    "nIntervalsList = sp.np.arange(5, 100, 1)\n",
    "nSplinePoints = 5\n",
    "squaredErrorList = []\n",
    "\n",
    "for nIntervals in nIntervalsList:\n",
    "    y, A, coeffs, ks = sp.quad_spline_coeff(f, xMin, xMax, nIntervals)\n",
    "    fig, spline_points = sp.quad_spline_plot(f, coeffs, ks, nSplinePoints)\n",
    "    squared_error = sp.spline_squared_error(f, spline_points)\n",
    "    squaredErrorList.append(squared_error)"
   ]
  },
  {
   "cell_type": "code",
   "execution_count": null,
   "metadata": {},
   "outputs": [],
   "source": [
    "%matplotlib inline\n",
    "plt.plot(nIntervalsList, squaredErrorList)\n",
    "plt.xlabel(r'$N$')\n",
    "plt.ylabel('squared error')\n",
    "plt.title('N vs. squared error');"
   ]
  },
  {
   "cell_type": "code",
   "execution_count": null,
   "metadata": {
    "collapsed": true
   },
   "outputs": [],
   "source": []
  }
 ],
 "metadata": {
  "kernelspec": {
   "display_name": "Python 3",
   "language": "python",
   "name": "python3"
  },
  "language_info": {
   "codemirror_mode": {
    "name": "ipython",
    "version": 3
   },
   "file_extension": ".py",
   "mimetype": "text/x-python",
   "name": "python",
   "nbconvert_exporter": "python",
   "pygments_lexer": "ipython3",
   "version": "3.6.3"
  }
 },
 "nbformat": 4,
 "nbformat_minor": 2
}
