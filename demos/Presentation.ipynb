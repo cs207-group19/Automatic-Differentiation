{
 "cells": [
  {
   "cell_type": "code",
   "execution_count": null,
   "metadata": {
    "collapsed": true
   },
   "outputs": [],
   "source": [
    "import numpy as np\n",
    "\n",
    "import sys\n",
    "sys.path.append('../DeriveAlive/')\n",
    "\n",
    "import DeriveAlive as da\n",
    "import rootfinding as rf\n",
    "import optimize as op\n",
    "import spline as sp"
   ]
  },
  {
   "cell_type": "markdown",
   "metadata": {},
   "source": [
    "# Demo 1: Declare Variables"
   ]
  },
  {
   "cell_type": "code",
   "execution_count": null,
   "metadata": {
    "collapsed": true
   },
   "outputs": [],
   "source": []
  },
  {
   "cell_type": "code",
   "execution_count": null,
   "metadata": {
    "collapsed": true
   },
   "outputs": [],
   "source": []
  },
  {
   "cell_type": "code",
   "execution_count": null,
   "metadata": {
    "collapsed": true
   },
   "outputs": [],
   "source": []
  },
  {
   "cell_type": "code",
   "execution_count": null,
   "metadata": {
    "collapsed": true
   },
   "outputs": [],
   "source": []
  },
  {
   "cell_type": "code",
   "execution_count": null,
   "metadata": {
    "collapsed": true
   },
   "outputs": [],
   "source": []
  },
  {
   "cell_type": "markdown",
   "metadata": {},
   "source": [
    "# Demo 2: Forward Mode"
   ]
  },
  {
   "cell_type": "code",
   "execution_count": null,
   "metadata": {
    "collapsed": true
   },
   "outputs": [],
   "source": []
  },
  {
   "cell_type": "code",
   "execution_count": null,
   "metadata": {
    "collapsed": true
   },
   "outputs": [],
   "source": []
  },
  {
   "cell_type": "code",
   "execution_count": null,
   "metadata": {
    "collapsed": true
   },
   "outputs": [],
   "source": []
  },
  {
   "cell_type": "code",
   "execution_count": null,
   "metadata": {
    "collapsed": true
   },
   "outputs": [],
   "source": []
  },
  {
   "cell_type": "markdown",
   "metadata": {},
   "source": [
    "# Demo 3: Root Finding"
   ]
  },
  {
   "cell_type": "code",
   "execution_count": null,
   "metadata": {
    "collapsed": true
   },
   "outputs": [],
   "source": []
  },
  {
   "cell_type": "code",
   "execution_count": null,
   "metadata": {
    "collapsed": true
   },
   "outputs": [],
   "source": []
  },
  {
   "cell_type": "code",
   "execution_count": null,
   "metadata": {
    "collapsed": true
   },
   "outputs": [],
   "source": []
  },
  {
   "cell_type": "code",
   "execution_count": null,
   "metadata": {
    "collapsed": true
   },
   "outputs": [],
   "source": []
  },
  {
   "cell_type": "code",
   "execution_count": null,
   "metadata": {
    "collapsed": true
   },
   "outputs": [],
   "source": []
  },
  {
   "cell_type": "markdown",
   "metadata": {},
   "source": [
    "# Demo 4: Optimization"
   ]
  },
  {
   "cell_type": "code",
   "execution_count": null,
   "metadata": {
    "collapsed": true
   },
   "outputs": [],
   "source": []
  },
  {
   "cell_type": "code",
   "execution_count": null,
   "metadata": {
    "collapsed": true
   },
   "outputs": [],
   "source": []
  },
  {
   "cell_type": "code",
   "execution_count": null,
   "metadata": {
    "collapsed": true
   },
   "outputs": [],
   "source": []
  },
  {
   "cell_type": "code",
   "execution_count": null,
   "metadata": {
    "collapsed": true
   },
   "outputs": [],
   "source": []
  },
  {
   "cell_type": "code",
   "execution_count": null,
   "metadata": {
    "collapsed": true
   },
   "outputs": [],
   "source": []
  },
  {
   "cell_type": "markdown",
   "metadata": {},
   "source": [
    "# Demo 5: Quadratic Spline"
   ]
  },
  {
   "cell_type": "markdown",
   "metadata": {},
   "source": [
    "Plot the quadratic spline of $f_1(x) = 10^x, x \\in [-1, 1]$ with 10 intervals."
   ]
  },
  {
   "cell_type": "code",
   "execution_count": null,
   "metadata": {},
   "outputs": [],
   "source": [
    "def f1(var):\n",
    "    return 10**var\n",
    "\n",
    "xMin1 = -1\n",
    "xMax1 = 1\n",
    "nIntervals1 = 10\n",
    "nSplinePoints1 = 5\n",
    "\n",
    "y1, A1, coeffs1, ks1 = sp.quad_spline_coeff(f1, xMin1, xMax1, nIntervals1)\n",
    "fig1 = sp.quad_spline_plot(f1, coeffs1, ks1, nSplinePoints1)\n",
    "spline_points1 = sp.spline_points(f1, coeffs1, ks1, nSplinePoints1)\n",
    "sp.spline_error(f1, spline_points1)"
   ]
  },
  {
   "cell_type": "code",
   "execution_count": null,
   "metadata": {},
   "outputs": [],
   "source": [
    "fig1"
   ]
  },
  {
   "cell_type": "markdown",
   "metadata": {},
   "source": [
    "Plot the quadratic spline of $f_3(x) = \\sin(x), x \\in [-1,1]$ and $x \\in [-\\pi, \\pi]$ with 5 intervals and 10 intervals."
   ]
  },
  {
   "cell_type": "code",
   "execution_count": null,
   "metadata": {},
   "outputs": [],
   "source": [
    "def f3(var):\n",
    "    return np.sin(var)\n",
    "\n",
    "xMin3 = -1\n",
    "xMax3 = 1\n",
    "nIntervals3 = 5\n",
    "nSplinePoints3 = 5\n",
    "\n",
    "y3, A3, coeffs3, ks3 = sp.quad_spline_coeff(f3, xMin3, xMax3, nIntervals3)\n",
    "fig3 = sp.quad_spline_plot(f3, coeffs3, ks3, nSplinePoints3)\n",
    "spline_points3 = sp.spline_points(f3, coeffs3, ks3, nSplinePoints3)\n",
    "sp.spline_error(f3, spline_points3)"
   ]
  },
  {
   "cell_type": "code",
   "execution_count": null,
   "metadata": {},
   "outputs": [],
   "source": [
    "fig3"
   ]
  },
  {
   "cell_type": "code",
   "execution_count": null,
   "metadata": {},
   "outputs": [],
   "source": [
    "xMin4 = -1\n",
    "xMax4 = 1\n",
    "nIntervals4 = 10\n",
    "nSplinePoints4 = 5\n",
    "\n",
    "y4, A4, coeffs4, ks4 = sp.quad_spline_coeff(f3, xMin4, xMax4, nIntervals4)\n",
    "fig4 = sp.quad_spline_plot(f3, coeffs4, ks4, nSplinePoints4)\n",
    "spline_points4 = sp.spline_points(f3, coeffs4, ks4, nSplinePoints4)\n",
    "sp.spline_error(f3, spline_points4)"
   ]
  },
  {
   "cell_type": "code",
   "execution_count": null,
   "metadata": {},
   "outputs": [],
   "source": [
    "fig4"
   ]
  },
  {
   "cell_type": "markdown",
   "metadata": {},
   "source": [
    "Adding more intervals does make the quadratic splines fit better. We will demonstrate this with $f(x) = 10^x, x \\in [-\\pi, \\pi]$ at intervals from 5 to 100."
   ]
  },
  {
   "cell_type": "code",
   "execution_count": null,
   "metadata": {},
   "outputs": [],
   "source": [
    "def f(var):\n",
    "    return 10 ** var\n",
    "\n",
    "xMin = -sp.np.pi\n",
    "xMax = sp.np.pi\n",
    "nIntervalsList = sp.np.arange(1, 50, 1)\n",
    "nSplinePoints = 10\n",
    "squaredErrorList = []\n",
    "\n",
    "for nIntervals in nIntervalsList:\n",
    "    y, A, coeffs, ks = sp.quad_spline_coeff(f, xMin, xMax, nIntervals)\n",
    "    spline_points = sp.spline_points(f, coeffs, ks, nSplinePoints)\n",
    "    error = sp.spline_error(f, spline_points)\n",
    "    squaredErrorList.append(error)\n",
    "    \n",
    "plt.figure()\n",
    "    \n",
    "coefficients = np.polyfit(np.log10(2*np.pi/nIntervalsList), np.log10(squaredErrorList), 1)\n",
    "polynomial = np.poly1d(coefficients)\n",
    "ys = polynomial(np.log10(2*np.pi/nIntervalsList))\n",
    "plt.plot(np.log10(2*np.pi/nIntervalsList), ys, label='linear fit')\n",
    "\n",
    "# plt.loglog(2*np.pi/nIntervalsList, squaredErrorList)\n",
    "plt.plot(np.log10(2*np.pi/nIntervalsList), np.log10(squaredErrorList), label='actual error plot')\n",
    "plt.xlabel(r'$N$')\n",
    "plt.ylabel('squared error')\n",
    "plt.xlabel(r'$\\log(1/N)$')\n",
    "plt.ylabel(r'$\\log(average error)$')\n",
    "plt.legend()\n",
    "plt.title('loglog plot of 1/N vs. average error')\n",
    "plt.show()"
   ]
  },
  {
   "cell_type": "code",
   "execution_count": null,
   "metadata": {},
   "outputs": [],
   "source": [
    "beta, alpha = coefficients[0], 10**coefficients[1]"
   ]
  },
  {
   "cell_type": "code",
   "execution_count": null,
   "metadata": {},
   "outputs": [],
   "source": [
    "beta, alpha"
   ]
  },
  {
   "cell_type": "markdown",
   "metadata": {},
   "source": [
    "# Extra: How to plot the following 20 functions?"
   ]
  },
  {
   "cell_type": "markdown",
   "metadata": {},
   "source": [
    "$f_1(x) = \\frac{-1}{0.5^2} x^2 + 1, x \\in [-0.5, 0]$\n",
    "\n",
    "$f_2(x) = \\frac{1}{0.5^2} x^2 - 1, x \\in [-0.5, 0]$\n",
    "\n",
    "$f_3(x) = \\frac{-1}{0.5} x^2 + 1, x \\in [0, 0.5]$\n",
    "\n",
    "$f_4(x) = \\frac{1}{0.5} x^2 - 1, x \\in [0, 0.5]$\n",
    "\n",
    "$f_6(x) = \\frac{-1}{0.5} (x-1.5)^2 + 1, x \\in [1, 1.5]$\n",
    "\n",
    "$f_7(x) = \\frac{1}{0.5} (x-1.5)^2 - 1, x \\in [1, 1.5]$\n",
    "\n",
    "$f_8(x) = \\frac{-1}{0.5} (x-1.5)^2, x \\in [1.5, 2]$\n",
    "\n",
    "$f_9(x) = \\frac{-1}{0.5} (x-1.5)^2 + 1, x \\in [1.5, 2]$\n",
    "\n",
    "$f_{10}(x) = \\frac{1}{0.5} (x-1.5)^2 - 1, x \\in [1.5, 2]$\n",
    "\n",
    "$f_{11}(x) = \\frac{-1}{0.5} (x-3)^2 + 1, x \\in [2.5, 3]$\n",
    "\n",
    "$f_{12}(x) = \\frac{-1}{0.5} (x-3)^2 + 1, x \\in [3, 3.5]$\n",
    "\n",
    "$f_{13}(x) = 1.5x - 4.75, x \\in [2.5, 3.5]$\n",
    "\n",
    "$f_{14}(x) = -1, x \\in [2.5, 3.5]$\n",
    "\n",
    "$f_{15}(x) = \\frac{-1}{0.5^2} (x-4.5)^2 + 1, x \\in [4, 4,5]$\n",
    "\n",
    "$f_{16}(x) = \\frac{1}{0.5^2} (x-4.5)^2 - 1, x \\in [4, 4,5]$\n",
    "\n",
    "$f_{17}(x) = \\frac{-1}{0.5^2} (x-4.5)^2 + 1, x \\in [4, 4,5]$\n",
    "\n",
    "$f_{18}(x) = \\frac{1}{0.5^2} (x-4.5)^2 - 1, x \\in [4.5, 5]$\n",
    "\n",
    "$f_{19}(x) = 1, x \\in [5.5, 6.5]$\n",
    "\n",
    "$f_{20}(x) = \\frac{-1}{(-0.75)^2} (x-6.5)^2 + 1, x \\in [5.75, 6.5]$"
   ]
  },
  {
   "cell_type": "code",
   "execution_count": null,
   "metadata": {
    "collapsed": true
   },
   "outputs": [],
   "source": [
    "import surprise"
   ]
  },
  {
   "cell_type": "code",
   "execution_count": null,
   "metadata": {},
   "outputs": [],
   "source": [
    "surprise.drawPoints()"
   ]
  },
  {
   "cell_type": "code",
   "execution_count": null,
   "metadata": {},
   "outputs": [],
   "source": [
    "surprise.drawSpline()"
   ]
  },
  {
   "cell_type": "code",
   "execution_count": null,
   "metadata": {},
   "outputs": [],
   "source": [
    "surprise.drawTogether()"
   ]
  },
  {
   "cell_type": "code",
   "execution_count": null,
   "metadata": {
    "collapsed": true
   },
   "outputs": [],
   "source": []
  },
  {
   "cell_type": "code",
   "execution_count": null,
   "metadata": {
    "collapsed": true
   },
   "outputs": [],
   "source": []
  }
 ],
 "metadata": {
  "kernelspec": {
   "display_name": "Python 3",
   "language": "python",
   "name": "python3"
  },
  "language_info": {
   "codemirror_mode": {
    "name": "ipython",
    "version": 3
   },
   "file_extension": ".py",
   "mimetype": "text/x-python",
   "name": "python",
   "nbconvert_exporter": "python",
   "pygments_lexer": "ipython3",
   "version": "3.6.3"
  }
 },
 "nbformat": 4,
 "nbformat_minor": 2
}
